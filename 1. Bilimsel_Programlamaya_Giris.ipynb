{
 "cells": [
  {
   "cell_type": "markdown",
   "id": "922f3f17",
   "metadata": {},
   "source": [
    "# 1.  Giriş\n",
    "Merhaba! Dersimize hoş geldiniz. Bu dersimizde Bilimsel Hesaplama için Python öğreneceğiz. Matematik hesaplamaları Python ile yapacağız. Dersimiz hakkında sorularını inanunal@munzur.edu.tr adresine gönderebilirsiniz. \n",
    "\n",
    "O halde Balşayalım!"
   ]
  },
  {
   "cell_type": "markdown",
   "id": "637e9d17",
   "metadata": {},
   "source": [
    "## 1.1 Bilimsel Hesaplama Yazılım Araçları\n",
    "Hesaplamalı bilimde, bilimsel ve mühendislik problemlerini çözmek için birçok yazılım aracı kullanılmaktadır. Bu araçlar arasında **MATLAB**, **Octave**, **R**, **Julia** ve **Python** gibi popüler diller ve platformlar yer alır. Her birinin kendine özgü avantajları ve kullanım alanları bulunmaktadır.\n",
    "###  MATLAB ve Octave\n",
    "**MATLAB**, mühendislik ve bilimsel hesaplamalar için yaygın olarak kullanılan ticari bir yazılımdır. Kullanıcı dostu arayüzü, geniş kütüphaneleri ve güçlü görselleştirme araçları ile bilinir. Ancak, lisans maliyetleri yüksek olabilir.\n",
    "\n",
    "**Octave**, MATLAB ile uyumlu ve açık kaynaklı bir alternatiftir. MATLAB kodlarının çoğunu çalıştırabilir ve benzer işlevselliği sunar. Özellikle akademik ve araştırma ortamlarında tercih edilir.\n",
    "\n",
    "###  R ve Julia\n",
    "**R**, istatistiksel hesaplamalar ve veri analizi için özel olarak tasarlanmış bir dildir. Geniş istatistik kütüphaneleri ve görselleştirme araçları ile veri bilimciler arasında popülerdir.\n",
    "\n",
    "**Julia**, yüksek performanslı bilimsel hesaplamalar için geliştirilmiş modern bir dildir. Python ve R gibi dillerin esnekliği ile C gibi dillerin hızını bir araya getirir.\n",
    "\n",
    "###  Python\n",
    "\n",
    "\n",
    "**Hesaplamalı Bilim**, bilimsel ve mühendislik problemlerini çözmek için hesaplamalı tekniklerin ve araçların kullanımını ifade eder. Python, basitliği, okunabilirliği ve çeşitli bilimsel görevler için kullanılan kütüphaneleri sayesinde hesaplamalı bilim alanında en popüler dillerden biri haline gelmiştir. Veri analizi, simülasyon, makine öğrenimi ve sayısal hesaplamalardan bilimsel araştırmaları verimli bir şekilde yürütmek için gereken tüm araçları sunar.\n",
    "\n",
    "\n",
    "## 1.2 Neden Python Hesaplamalı Bilim İçin Tercih Ediliyor?\n",
    "\n",
    "###  Kolay Öğrenilebilirlik\n",
    "Python, öğrenmesi ve kullanmaya başlaması kolay bir dildir, bu da onu başlangıç seviyesindeki kullanıcılar için erişilebilir kılar.\n",
    "\n",
    "###   Zengin Eğitim Materyalleri\n",
    "Python öğrenmek için geniş bir eğitim materyali mevcuttur. Kitaplar, çevrimiçi kurslar ve topluluk kaynakları sayesinde kullanıcılar kolayca bilgi edinebilir.\n",
    "\n",
    "###  Geniş Kütüphane Desteği\n",
    "Python, çeşitli amaçlar için geniş bir kütüphane yelpazesine sahiptir. Özellikle şu kütüphaneler hesaplamalı bilim için vazgeçilmezdir:\n",
    "- **NumPy**: Sayısal hesaplamalar için destek sağlar.\n",
    "- **SciPy**: NumPy'ı bilimsel hesaplamalar için ek işlevlerle genişletir.\n",
    "- **Matplotlib**: Veri görselleştirme için popüler bir kütüphanedir.\n",
    "\n",
    "###   Yapıştırıcı Dil Olarak Python\n",
    "Python, iyi test edilmiş ve yüksek performanslı kodları bir araya getirmek için \"yapıştırıcı dil\" olarak kullanılır. NumPy ve SciPy, Python'un bu özelliğinin en güzel örneklerindendir.\n",
    "\n",
    "###   Makine Öğrenimi ve Derin Öğrenme\n",
    "Python, makine öğrenimi ve derin öğrenme toplulukları tarafından geniş çapta benimsenmiştir. Birçok çerçeve için tercih edilen yapıştırıcı dil haline gelmiştir.\n",
    "\n",
    "###  Açık Kaynak\n",
    "Python, açık kaynaklı bir dildir. Bu sayede herkes tarafından ücretsiz olarak indirilebilir, kurulabilir ve kullanılabilir. Ayrıca, küresel iş birlikleri için kod paylaşımını kolaylaştırır.\n",
    "\n",
    " Bu ders kapsamında Python'ın bilimsel hesaplamalarda kullanımına dair bilgiler verilecektir. Derste bazı web kaynakları ve YZ asistanlarının yanısıra aşağıdaki kaynaktan yararlanılacaktır.\n",
    "\n",
    "Sundnes, J. (2020). Introduction to scientific programming with Python (p. 148). Springer Nature.\n",
    "https://link.springer.com/book/10.1007/978-3-030-50356-7"
   ]
  },
  {
   "cell_type": "markdown",
   "id": "e1414e96",
   "metadata": {},
   "source": [
    "## 1.3 Python Kurulumu ve Geliştirme Ortamları\n",
    "\n",
    "Python’ı bilgisayarınıza kurmak için aşağıdaki adımları izleyin:\n",
    "\n",
    "1. **Python’ı İndirin**: [python.org](https://www.python.org/downloads/) adresinden işletim sisteminize uygun sürümü indirin.\n",
    "2. **Kurulumu Başlatın**: İndirdiğiniz dosyayı çalıştırın ve kurulum sihirbazını takip edin.\n",
    "3. **PATH Seçeneğini İşaretleyin**: Kurulum sırasında **\"Add Python to PATH\"** seçeneğini işaretleyin. Bu, Python’ı komut satırından kolayca kullanmanızı sağlar.\n",
    "4. **Kurulumu Tamamlayın**: Kurulumu tamamladıktan sonra, terminal veya komut isteminde `python --version` veya `python3 --version` komutu ile kurulumu doğrulayın.\n",
    "\n",
    "### IDE’ler (Tümleşik Geliştirme Ortamları)\n",
    "Python kodları yazmak ve çalıştırmak için kullanılan bazı popüler IDE’ler:\n",
    "\n",
    "- **PyCharm**: JetBrains tarafından geliştirilen güçlü bir Python IDE’sidir. Ücretli ve ücretsiz sürümleri bulunmaktadır.\n",
    "- **Visual Studio Code (VS Code)**: Microsoft tarafından geliştirilen hafif ve genişletilebilir bir kod editörüdür. Python eklentileri ile zenginleştirilebilir.\n",
    "- **Spyder**: Bilimsel hesaplamalar için tasarlanmış bir IDE’dir. MATLAB benzeri bir arayüze sahiptir.\n",
    "\n",
    "\n",
    "### Jupyter Notebook\n",
    "**Jupyter Notebook**, etkileşimli bir geliştirme ortamıdır. Kodu, metni, görselleri ve görselleştirmeleri tek bir belgede birleştirebilirsiniz. Özellikle veri analizi, makine öğrenimi ve bilimsel hesaplamalar için idealdir.\n",
    "\n",
    "- **Kurulum**: Jupyter Notebook’ı kurmak için terminalde `pip install notebook` komutunu çalıştırın.\n",
    "- **Kullanım**: Terminalde `jupyter notebook` komutu ile tarayıcınızda Jupyter Notebook’ı açabilirsiniz.\n",
    "\n",
    "\n",
    "### Google Colab\n",
    "**Google Colab**, Google tarafından sunulan bulut tabanlı bir Jupyter Notebook ortamıdır. Herhangi bir kurulum gerektirmeden tarayıcı üzerinden Python kodları yazabilir ve çalıştırabilirsiniz. Özellikle makine öğrenimi ve veri analizi projeleri için popülerdir.\n",
    "\n",
    "**Google Colab’ın Avantajları**\n",
    "- **Kurulum Gerektirmez**: Tarayıcı üzerinden doğrudan erişilebilir.\n",
    "- **Ücretsiz GPU ve TPU Desteği**: Makine öğrenimi modellerini hızlı bir şekilde eğitebilirsiniz.\n",
    "- **Paylaşım Kolaylığı**: Notebook’ları kolayca paylaşabilir ve işbirliği yapabilirsiniz.\n",
    "\n",
    "**Google Colab Kullanımı**\n",
    "1. **Google Colab’a Erişim**: [colab.research.google.com](https://colab.research.google.com/) adresine gidin.\n",
    "2. **Yeni Notebook Oluşturun**: **\"File\" (Dosya) > \"New notebook\"** seçeneği ile yeni bir notebook oluşturun.\n",
    "3. **Kod Yazın ve Çalıştırın**: Kod hücrelerine Python kodları yazın ve **\"Shift + Enter\"** tuş kombinasyonu ile çalıştırın.\n",
    "\n",
    "---\n",
    "Bu derste **Google Colab** kullanacağız. Colab’ın kullanımı oldukça basit ve etkileşimlidir.\n"
   ]
  },
  {
   "cell_type": "markdown",
   "id": "003cf700",
   "metadata": {},
   "source": [
    "**Araştırma Ödevi**: Google Colab kullanmanın yerel bilgisayarda Jupyter Notebook kullanmaktan temel farkları nelerdir? Google Colab, paketleri nerede saklar ve kodu nasıl işler? Bu iki yaklaşımdan hangisi hangi durumlarda daha avantajlıdır?"
   ]
  },
  {
   "cell_type": "markdown",
   "id": "7755b50c",
   "metadata": {
    "id": "7755b50c"
   },
   "source": [
    "## 1.4 İlk Kodumuz: Merhaba, Dünya!\n",
    "Programlamaya giriş derslerinde genellikle \"Merhaba, Dünya!\" yazdıran bir programla başlanır.\n",
    "Python'da bu program oldukça basittir:"
   ]
  },
  {
   "cell_type": "code",
   "execution_count": null,
   "id": "4c1ff10f",
   "metadata": {
    "colab": {
     "base_uri": "https://localhost:8080/"
    },
    "executionInfo": {
     "elapsed": 85,
     "status": "ok",
     "timestamp": 1760517985447,
     "user": {
      "displayName": "İnan Ünal",
      "userId": "11712584938110749199"
     },
     "user_tz": -180
    },
    "id": "4c1ff10f",
    "outputId": "903d0d95-d339-4ff9-8b4b-16dcb26cb01a"
   },
   "outputs": [
    {
     "name": "stdout",
     "output_type": "stream",
     "text": [
      "Hoş geldiniz\n"
     ]
    }
   ],
   "source": [
    "print(\"Merhaba Dünya!\") "
   ]
  },
  {
   "cell_type": "markdown",
   "id": "61f50777",
   "metadata": {
    "id": "61f50777"
   },
   "source": [
    "\n",
    "Bu programı çalıştırdığınızda ekrana `\"Merhaba, Dünya!\"` yazdıracaktır.\n",
    "Bu basit örnek şu amaçlarla kullanılır:\n",
    "\n",
    "- Python'un düzgün kurulduğunu doğrulamak\n",
    "- `print` fonksiyonunu tanımak\n",
    "- Metinlerin nasıl tanımlandığını görmek (tırnak işaretleri içinde)\n",
    "\n",
    "Python'da bir metin (string) belirlemek için çift tırnak `\"...\"` veya tek tırnak `'...'` kullanılabilir.\n",
    "\n",
    "Python'da kod içine yorum yazmak için  `\"#\"` simgesi kullanılır. \n"
   ]
  },
  {
   "cell_type": "code",
   "execution_count": null,
   "id": "d89c689b",
   "metadata": {},
   "outputs": [],
   "source": [
    "#bu bir yorum satırıdır. \n",
    "print(\"Hesaplamalı Bilim dersine hoş geldiniz\") #print metodu"
   ]
  },
  {
   "cell_type": "code",
   "execution_count": null,
   "id": "6ce1e703",
   "metadata": {
    "collapsed": true,
    "id": "6ce1e703"
   },
   "outputs": [],
   "source": [
    "2 + 2"
   ]
  },
  {
   "cell_type": "markdown",
   "id": "aa783284",
   "metadata": {
    "id": "aa783284"
   },
   "source": [
    "İşte birkaç basit Python örneği:"
   ]
  },
  {
   "cell_type": "code",
   "execution_count": null,
   "id": "Vo7WUxdR911n",
   "metadata": {
    "executionInfo": {
     "elapsed": 106,
     "status": "ok",
     "timestamp": 1761120708436,
     "user": {
      "displayName": "İnan Ünal",
      "userId": "11712584938110749199"
     },
     "user_tz": -180
    },
    "id": "Vo7WUxdR911n"
   },
   "outputs": [],
   "source": [
    "a = 5"
   ]
  },
  {
   "cell_type": "code",
   "execution_count": null,
   "id": "edDZAmW--XHd",
   "metadata": {
    "colab": {
     "base_uri": "https://localhost:8080/"
    },
    "executionInfo": {
     "elapsed": 27,
     "status": "ok",
     "timestamp": 1761120719024,
     "user": {
      "displayName": "İnan Ünal",
      "userId": "11712584938110749199"
     },
     "user_tz": -180
    },
    "id": "edDZAmW--XHd",
    "outputId": "0c5d2147-d9ac-4b76-be04-4d064e7728ac"
   },
   "outputs": [
    {
     "data": {
      "text/plain": [
       "int"
      ]
     },
     "execution_count": 4,
     "metadata": {},
     "output_type": "execute_result"
    }
   ],
   "source": [
    "type(a)"
   ]
  },
  {
   "cell_type": "code",
   "execution_count": null,
   "id": "ABMay80y-aJ5",
   "metadata": {
    "executionInfo": {
     "elapsed": 55,
     "status": "ok",
     "timestamp": 1761120733894,
     "user": {
      "displayName": "İnan Ünal",
      "userId": "11712584938110749199"
     },
     "user_tz": -180
    },
    "id": "ABMay80y-aJ5"
   },
   "outputs": [],
   "source": [
    "a = \"elma\""
   ]
  },
  {
   "cell_type": "code",
   "execution_count": null,
   "id": "bB8lmTZb-dU2",
   "metadata": {
    "colab": {
     "base_uri": "https://localhost:8080/"
    },
    "executionInfo": {
     "elapsed": 78,
     "status": "ok",
     "timestamp": 1761120743048,
     "user": {
      "displayName": "İnan Ünal",
      "userId": "11712584938110749199"
     },
     "user_tz": -180
    },
    "id": "bB8lmTZb-dU2",
    "outputId": "b5472442-2066-4c4f-99c3-2b5c76b30ebb"
   },
   "outputs": [
    {
     "data": {
      "text/plain": [
       "str"
      ]
     },
     "execution_count": 6,
     "metadata": {},
     "output_type": "execute_result"
    }
   ],
   "source": [
    "type(a)"
   ]
  },
  {
   "cell_type": "code",
   "execution_count": null,
   "id": "dfYdshx7_SFh",
   "metadata": {
    "executionInfo": {
     "elapsed": 75,
     "status": "ok",
     "timestamp": 1761120969917,
     "user": {
      "displayName": "İnan Ünal",
      "userId": "11712584938110749199"
     },
     "user_tz": -180
    },
    "id": "dfYdshx7_SFh"
   },
   "outputs": [],
   "source": [
    "a = 5.2"
   ]
  },
  {
   "cell_type": "code",
   "execution_count": null,
   "id": "gtRghI1L_Wlg",
   "metadata": {
    "colab": {
     "base_uri": "https://localhost:8080/"
    },
    "executionInfo": {
     "elapsed": 230,
     "status": "ok",
     "timestamp": 1761120976990,
     "user": {
      "displayName": "İnan Ünal",
      "userId": "11712584938110749199"
     },
     "user_tz": -180
    },
    "id": "gtRghI1L_Wlg",
    "outputId": "7c7df48d-3811-4c1f-b4a9-20f9f609d32c"
   },
   "outputs": [
    {
     "data": {
      "text/plain": [
       "float"
      ]
     },
     "execution_count": 8,
     "metadata": {},
     "output_type": "execute_result"
    }
   ],
   "source": [
    "type(a)"
   ]
  },
  {
   "cell_type": "code",
   "execution_count": null,
   "id": "x_RwI7zJ_Z3z",
   "metadata": {
    "executionInfo": {
     "elapsed": 40,
     "status": "ok",
     "timestamp": 1761120996719,
     "user": {
      "displayName": "İnan Ünal",
      "userId": "11712584938110749199"
     },
     "user_tz": -180
    },
    "id": "x_RwI7zJ_Z3z"
   },
   "outputs": [],
   "source": [
    "a = [1,2,3]"
   ]
  },
  {
   "cell_type": "code",
   "execution_count": null,
   "id": "KfqkNAbk_dR3",
   "metadata": {
    "colab": {
     "base_uri": "https://localhost:8080/"
    },
    "executionInfo": {
     "elapsed": 188,
     "status": "ok",
     "timestamp": 1761121003528,
     "user": {
      "displayName": "İnan Ünal",
      "userId": "11712584938110749199"
     },
     "user_tz": -180
    },
    "id": "KfqkNAbk_dR3",
    "outputId": "1c9ad0de-77a3-4bf8-a436-79b73be0a1ba"
   },
   "outputs": [
    {
     "data": {
      "text/plain": [
       "list"
      ]
     },
     "execution_count": 10,
     "metadata": {},
     "output_type": "execute_result"
    }
   ],
   "source": [
    "type(a)"
   ]
  },
  {
   "cell_type": "code",
   "execution_count": null,
   "id": "pBhtGJry_fxp",
   "metadata": {
    "executionInfo": {
     "elapsed": 64,
     "status": "ok",
     "timestamp": 1761121018753,
     "user": {
      "displayName": "İnan Ünal",
      "userId": "11712584938110749199"
     },
     "user_tz": -180
    },
    "id": "pBhtGJry_fxp"
   },
   "outputs": [],
   "source": [
    "a = (1,2,3)"
   ]
  },
  {
   "cell_type": "code",
   "execution_count": null,
   "id": "vF1U0m-G_imb",
   "metadata": {
    "colab": {
     "base_uri": "https://localhost:8080/"
    },
    "executionInfo": {
     "elapsed": 86,
     "status": "ok",
     "timestamp": 1761121026113,
     "user": {
      "displayName": "İnan Ünal",
      "userId": "11712584938110749199"
     },
     "user_tz": -180
    },
    "id": "vF1U0m-G_imb",
    "outputId": "a129f4ae-c659-40f9-c080-d2da5e24e940"
   },
   "outputs": [
    {
     "data": {
      "text/plain": [
       "tuple"
      ]
     },
     "execution_count": 12,
     "metadata": {},
     "output_type": "execute_result"
    }
   ],
   "source": [
    "type(a)"
   ]
  },
  {
   "cell_type": "code",
   "execution_count": null,
   "id": "Fh_dQPa7_n6C",
   "metadata": {
    "executionInfo": {
     "elapsed": 105,
     "status": "ok",
     "timestamp": 1761121054574,
     "user": {
      "displayName": "İnan Ünal",
      "userId": "11712584938110749199"
     },
     "user_tz": -180
    },
    "id": "Fh_dQPa7_n6C"
   },
   "outputs": [],
   "source": [
    "a = {1,2,3}"
   ]
  },
  {
   "cell_type": "code",
   "execution_count": null,
   "id": "Qx3TpjNA_rVM",
   "metadata": {
    "colab": {
     "base_uri": "https://localhost:8080/"
    },
    "executionInfo": {
     "elapsed": 173,
     "status": "ok",
     "timestamp": 1761121065674,
     "user": {
      "displayName": "İnan Ünal",
      "userId": "11712584938110749199"
     },
     "user_tz": -180
    },
    "id": "Qx3TpjNA_rVM",
    "outputId": "8bfe7137-745a-4e94-dc9b-8ff94048d9ee"
   },
   "outputs": [
    {
     "data": {
      "text/plain": [
       "set"
      ]
     },
     "execution_count": 14,
     "metadata": {},
     "output_type": "execute_result"
    }
   ],
   "source": [
    "type(a)"
   ]
  },
  {
   "cell_type": "code",
   "execution_count": null,
   "id": "uDEGlFJg_vcb",
   "metadata": {
    "executionInfo": {
     "elapsed": 65,
     "status": "ok",
     "timestamp": 1761121083579,
     "user": {
      "displayName": "İnan Ünal",
      "userId": "11712584938110749199"
     },
     "user_tz": -180
    },
    "id": "uDEGlFJg_vcb"
   },
   "outputs": [],
   "source": [
    "a = {\"bir\":1,\"iki\":2}"
   ]
  },
  {
   "cell_type": "code",
   "execution_count": null,
   "id": "7QNneXjN_yZC",
   "metadata": {
    "colab": {
     "base_uri": "https://localhost:8080/"
    },
    "executionInfo": {
     "elapsed": 134,
     "status": "ok",
     "timestamp": 1761121091857,
     "user": {
      "displayName": "İnan Ünal",
      "userId": "11712584938110749199"
     },
     "user_tz": -180
    },
    "id": "7QNneXjN_yZC",
    "outputId": "0a708bfe-a21c-4636-eec4-7c09b9e36598"
   },
   "outputs": [
    {
     "data": {
      "text/plain": [
       "dict"
      ]
     },
     "execution_count": 16,
     "metadata": {},
     "output_type": "execute_result"
    }
   ],
   "source": [
    "type(a)"
   ]
  },
  {
   "cell_type": "code",
   "execution_count": null,
   "id": "df9b55ff",
   "metadata": {
    "colab": {
     "base_uri": "https://localhost:8080/"
    },
    "executionInfo": {
     "elapsed": 93,
     "status": "ok",
     "timestamp": 1761121323333,
     "user": {
      "displayName": "İnan Ünal",
      "userId": "11712584938110749199"
     },
     "user_tz": -180
    },
    "id": "df9b55ff",
    "outputId": "dff7d18e-2bdd-4206-9c9d-f1b75513e67d"
   },
   "outputs": [
    {
     "name": "stdout",
     "output_type": "stream",
     "text": [
      "Toplam: 15 \n",
      " 10\n",
      "10\n"
     ]
    }
   ],
   "source": [
    "# Değişken atama\n",
    "sayi1 = 10\n",
    "sayi2 = 5\n",
    "\n",
    "# Toplama işlemi\n",
    "toplam = sayi1 + sayi2\n",
    "print(\"Toplam:\", toplam,\"\\n\",sayi1)\n",
    "print(sayi1)"
   ]
  },
  {
   "cell_type": "code",
   "execution_count": null,
   "id": "10a80e5d",
   "metadata": {
    "id": "10a80e5d"
   },
   "outputs": [],
   "source": [
    "# Çıkarma işlemi\n",
    "fark = sayi1 - sayi2\n",
    "print(\"Fark:\", fark)"
   ]
  },
  {
   "cell_type": "code",
   "execution_count": null,
   "id": "6c6f97d4",
   "metadata": {
    "id": "6c6f97d4"
   },
   "outputs": [],
   "source": [
    "# Çarpma işlemi\n",
    "carpim = sayi1 * sayi2\n",
    "print(\"Çarpım:\", carpim)"
   ]
  },
  {
   "cell_type": "code",
   "execution_count": null,
   "id": "975c0b3e",
   "metadata": {
    "id": "975c0b3e"
   },
   "outputs": [],
   "source": [
    "# Bölme işlemi\n",
    "bolum = sayi1 / sayi2\n",
    "print(\"Bölüm:\", bolum)"
   ]
  },
  {
   "cell_type": "code",
   "execution_count": null,
   "id": "o1jkJDvbBCEV",
   "metadata": {
    "colab": {
     "base_uri": "https://localhost:8080/",
     "height": 176
    },
    "executionInfo": {
     "elapsed": 126,
     "status": "error",
     "timestamp": 1761121623307,
     "user": {
      "displayName": "İnan Ünal",
      "userId": "11712584938110749199"
     },
     "user_tz": -180
    },
    "id": "o1jkJDvbBCEV",
    "outputId": "2ab7c53d-a6d4-4994-ea3f-338738667941"
   },
   "outputs": [
    {
     "ename": "TypeError",
     "evalue": "unsupported operand type(s) for /: 'list' and 'int'",
     "output_type": "error",
     "traceback": [
      "\u001b[0;31m---------------------------------------------------------------------------\u001b[0m",
      "\u001b[0;31mTypeError\u001b[0m                                 Traceback (most recent call last)",
      "\u001b[0;32m/tmp/ipython-input-621061753.py\u001b[0m in \u001b[0;36m<cell line: 0>\u001b[0;34m()\u001b[0m\n\u001b[1;32m      1\u001b[0m \u001b[0ma\u001b[0m \u001b[0;34m=\u001b[0m \u001b[0;34m[\u001b[0m\u001b[0;36m1\u001b[0m\u001b[0;34m,\u001b[0m\u001b[0;36m2\u001b[0m\u001b[0;34m,\u001b[0m\u001b[0;36m3\u001b[0m\u001b[0;34m]\u001b[0m\u001b[0;34m\u001b[0m\u001b[0;34m\u001b[0m\u001b[0m\n\u001b[1;32m      2\u001b[0m \u001b[0mb\u001b[0m \u001b[0;34m=\u001b[0m \u001b[0;36m5\u001b[0m\u001b[0;34m\u001b[0m\u001b[0;34m\u001b[0m\u001b[0m\n\u001b[0;32m----> 3\u001b[0;31m \u001b[0mprint\u001b[0m\u001b[0;34m(\u001b[0m\u001b[0ma\u001b[0m\u001b[0;34m/\u001b[0m\u001b[0mb\u001b[0m\u001b[0;34m)\u001b[0m\u001b[0;34m\u001b[0m\u001b[0;34m\u001b[0m\u001b[0m\n\u001b[0m",
      "\u001b[0;31mTypeError\u001b[0m: unsupported operand type(s) for /: 'list' and 'int'"
     ]
    }
   ],
   "source": [
    "a = [1,2,3]\n",
    "b = 5\n",
    "print(a/b)"
   ]
  },
  {
   "cell_type": "markdown",
   "id": "baf80e64",
   "metadata": {
    "id": "baf80e64"
   },
   "source": [
    "\n",
    "Jupyter Notebook içinde her bir hücreyi çalıştırarak çıktıyı doğrudan görebilirsiniz.\n"
   ]
  },
  {
   "cell_type": "markdown",
   "id": "zqISpjf7bWZR",
   "metadata": {
    "id": "zqISpjf7bWZR"
   },
   "source": [
    "## Güçlü bir hesap makinesi"
   ]
  },
  {
   "cell_type": "code",
   "execution_count": null,
   "id": "cRrOtuyTbfOv",
   "metadata": {
    "colab": {
     "base_uri": "https://localhost:8080/"
    },
    "executionInfo": {
     "elapsed": 146,
     "status": "ok",
     "timestamp": 1760518006338,
     "user": {
      "displayName": "İnan Ünal",
      "userId": "11712584938110749199"
     },
     "user_tz": -180
    },
    "id": "cRrOtuyTbfOv",
    "outputId": "7c00c130-a8e5-488e-cf25-55adffd568c1"
   },
   "outputs": [
    {
     "data": {
      "text/plain": [
       "8"
      ]
     },
     "execution_count": 9,
     "metadata": {},
     "output_type": "execute_result"
    }
   ],
   "source": [
    "2**3"
   ]
  },
  {
   "cell_type": "code",
   "execution_count": null,
   "id": "bsneeprZblGO",
   "metadata": {
    "colab": {
     "base_uri": "https://localhost:8080/"
    },
    "executionInfo": {
     "elapsed": 86,
     "status": "ok",
     "timestamp": 1760518033877,
     "user": {
      "displayName": "İnan Ünal",
      "userId": "11712584938110749199"
     },
     "user_tz": -180
    },
    "id": "bsneeprZblGO",
    "outputId": "ba235c53-d037-40f8-ab7e-f7c76578fd61"
   },
   "outputs": [
    {
     "data": {
      "text/plain": [
       "11.5"
      ]
     },
     "execution_count": 12,
     "metadata": {},
     "output_type": "execute_result"
    }
   ],
   "source": [
    "23/2"
   ]
  },
  {
   "cell_type": "code",
   "execution_count": null,
   "id": "_x6dIa7FbnS0",
   "metadata": {
    "id": "_x6dIa7FbnS0"
   },
   "outputs": [],
   "source": [
    "23.2"
   ]
  },
  {
   "cell_type": "code",
   "execution_count": null,
   "id": "Cv8W-uNpbpuo",
   "metadata": {
    "id": "Cv8W-uNpbpuo"
   },
   "outputs": [],
   "source": [
    "#üs alma\n",
    "2**5"
   ]
  },
  {
   "cell_type": "code",
   "execution_count": null,
   "id": "rpUfZdJQb3WS",
   "metadata": {
    "id": "rpUfZdJQb3WS"
   },
   "outputs": [],
   "source": [
    "15/6"
   ]
  },
  {
   "cell_type": "code",
   "execution_count": 1,
   "id": "9MXw9mN4cT_P",
   "metadata": {
    "executionInfo": {
     "elapsed": 49,
     "status": "ok",
     "timestamp": 1761120377075,
     "user": {
      "displayName": "İnan Ünal",
      "userId": "11712584938110749199"
     },
     "user_tz": -180
    },
    "id": "9MXw9mN4cT_P"
   },
   "outputs": [],
   "source": [
    "import math as m"
   ]
  },
  {
   "cell_type": "code",
   "execution_count": 2,
   "id": "9FT3TlIN9upT",
   "metadata": {
    "colab": {
     "base_uri": "https://localhost:8080/"
    },
    "executionInfo": {
     "elapsed": 117,
     "status": "ok",
     "timestamp": 1761120556380,
     "user": {
      "displayName": "İnan Ünal",
      "userId": "11712584938110749199"
     },
     "user_tz": -180
    },
    "id": "9FT3TlIN9upT",
    "outputId": "6ba800cc-4618-4633-9b12-48b5ee55fb84"
   },
   "outputs": [
    {
     "data": {
      "text/plain": [
       "1.6487212707001282"
      ]
     },
     "execution_count": 2,
     "metadata": {},
     "output_type": "execute_result"
    }
   ],
   "source": [
    "m.exp(0.5)"
   ]
  },
  {
   "cell_type": "code",
   "execution_count": null,
   "id": "NnllZFbMDgvN",
   "metadata": {
    "colab": {
     "base_uri": "https://localhost:8080/"
    },
    "executionInfo": {
     "elapsed": 88,
     "status": "ok",
     "timestamp": 1760518119716,
     "user": {
      "displayName": "İnan Ünal",
      "userId": "11712584938110749199"
     },
     "user_tz": -180
    },
    "id": "NnllZFbMDgvN",
    "outputId": "e3e69777-e5d4-4608-cf4b-c27bcf05288f"
   },
   "outputs": [
    {
     "data": {
      "text/plain": [
       "-0.9589242746631385"
      ]
     },
     "execution_count": 18,
     "metadata": {},
     "output_type": "execute_result"
    }
   ],
   "source": [
    "m.sin(5)"
   ]
  },
  {
   "cell_type": "code",
   "execution_count": null,
   "id": "SvwZqPIFcf-_",
   "metadata": {
    "id": "SvwZqPIFcf-_"
   },
   "outputs": [],
   "source": [
    "math.sin(5)"
   ]
  },
  {
   "cell_type": "code",
   "execution_count": null,
   "id": "5dUPrNIEcwAx",
   "metadata": {
    "id": "5dUPrNIEcwAx"
   },
   "outputs": [],
   "source": [
    "m.sin(5)"
   ]
  },
  {
   "cell_type": "code",
   "execution_count": null,
   "id": "AtcsSlwCdNrC",
   "metadata": {
    "id": "AtcsSlwCdNrC"
   },
   "outputs": [],
   "source": [
    "help(math.exp)"
   ]
  },
  {
   "cell_type": "code",
   "execution_count": null,
   "id": "OPs0H-fSdXLc",
   "metadata": {
    "id": "OPs0H-fSdXLc"
   },
   "outputs": [],
   "source": [
    "m.cos(m.pi)"
   ]
  },
  {
   "cell_type": "code",
   "execution_count": null,
   "id": "XihdyUWGdkAn",
   "metadata": {
    "id": "XihdyUWGdkAn"
   },
   "outputs": [],
   "source": [
    "x = 3"
   ]
  },
  {
   "cell_type": "code",
   "execution_count": null,
   "id": "RKSh_wswdshb",
   "metadata": {
    "id": "RKSh_wswdshb"
   },
   "outputs": [],
   "source": [
    "x**3"
   ]
  },
  {
   "cell_type": "code",
   "execution_count": null,
   "id": "hgsaqloWdsbm",
   "metadata": {
    "id": "hgsaqloWdsbm"
   },
   "outputs": [],
   "source": [
    "print(m.cos(x))"
   ]
  },
  {
   "cell_type": "code",
   "execution_count": null,
   "id": "k8cZZ6Gqervz",
   "metadata": {
    "id": "k8cZZ6Gqervz"
   },
   "outputs": [],
   "source": [
    "y = 3"
   ]
  },
  {
   "cell_type": "code",
   "execution_count": null,
   "id": "mDkVtjIbecV9",
   "metadata": {
    "id": "mDkVtjIbecV9"
   },
   "outputs": [],
   "source": [
    "y = y + 5\n",
    "print(y)"
   ]
  },
  {
   "cell_type": "code",
   "execution_count": null,
   "id": "IZfGHyPse6dO",
   "metadata": {
    "id": "IZfGHyPse6dO"
   },
   "outputs": [],
   "source": [
    "y += 10\n",
    "y"
   ]
  }
 ],
 "metadata": {
  "colab": {
   "provenance": []
  },
  "kernelspec": {
   "display_name": "Python 3 (ipykernel)",
   "language": "python",
   "name": "python3"
  },
  "language_info": {
   "codemirror_mode": {
    "name": "ipython",
    "version": 3
   },
   "file_extension": ".py",
   "mimetype": "text/x-python",
   "name": "python",
   "nbconvert_exporter": "python",
   "pygments_lexer": "ipython3",
   "version": "3.10.4"
  }
 },
 "nbformat": 4,
 "nbformat_minor": 5
}
