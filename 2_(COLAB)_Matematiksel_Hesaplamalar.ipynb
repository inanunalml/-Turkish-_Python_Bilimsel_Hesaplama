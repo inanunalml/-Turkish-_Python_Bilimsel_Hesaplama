{
  "cells": [
    {
      "cell_type": "markdown",
      "metadata": {
        "id": "view-in-github",
        "colab_type": "text"
      },
      "source": [
        "<a href=\"https://colab.research.google.com/github/inanunalml/-Turkish-_Python_Bilimsel_Hesaplama/blob/main/2_(COLAB)_Matematiksel_Hesaplamalar.ipynb\" target=\"_parent\"><img src=\"https://colab.research.google.com/assets/colab-badge.svg\" alt=\"Open In Colab\"/></a>"
      ]
    },
    {
      "cell_type": "markdown",
      "id": "ef64c5de",
      "metadata": {
        "id": "ef64c5de"
      },
      "source": [
        "#  Matematiksel Hesaplamalar\n",
        "Bu bölüm, Python ile matematiksel formüller kullanarak hesaplamalar yapmayı öğretir. Ayrıca değişkenlerin nasıl kullanıldığını,\n",
        "farklı veri türleri ile nasıl çalışıldığını ve çıktı biçimlendirme yöntemlerini ele alır.\n",
        "\n",
        "Önceki bölümde ele aldığımız, değişken tanımlama ve veri tiplerini kullanarak formüller yazacağız. Matematik modülünden bahsedeceğiz.\n",
        "\n",
        "## 2.1 Basit Matematiksel Hesaplamalar\n",
        "\n",
        "\n",
        "Örneğin, yıllık faiz oranı ile bir bankadaki mevduatın büyümesini hesaplayan **basit** bir formülü ele alalım:\n",
        "\n",
        "$$A = P (1 + \\frac{r}{100})^n$$\n",
        "\n",
        "Burada:\n",
        "- \\( P \\) : İlk yatırılan para (ana para)\n",
        "- \\( r \\) : Yıllık faiz oranı (yüzde olarak)\n",
        "- \\( n \\) : Yıl sayısı\n",
        "- \\( A \\) : Son hesaplanan miktar\n",
        "\n",
        "Bu formülü Python ile hesaplayalım.\n",
        "\n"
      ]
    },
    {
      "cell_type": "code",
      "execution_count": null,
      "id": "d3a820cb",
      "metadata": {
        "id": "d3a820cb",
        "outputId": "95177b78-9592-4c81-f629-01e6701add38",
        "colab": {
          "base_uri": "https://localhost:8080/"
        },
        "collapsed": true
      },
      "outputs": [
        {
          "output_type": "stream",
          "name": "stdout",
          "text": [
            "140.71004226562505\n"
          ]
        }
      ],
      "source": [
        "# P=100, r=5, n=7\n",
        "print(100*(1 + 5.0/100)**7)"
      ]
    },
    {
      "cell_type": "markdown",
      "source": [
        "Bu kod blokunda\n",
        " $$P=100, r=5, n=7$$\n",
        " değerleri için bir çıktı verecektir. Formülün doğrudan print metodu içine yazıldığına dikkat ediniz. Bu da Python'ın bir başka güzel özelliği. Başka birkaç örnek daha yazalım."
      ],
      "metadata": {
        "id": "OFsPmutB-N3A"
      },
      "id": "OFsPmutB-N3A"
    },
    {
      "cell_type": "code",
      "source": [
        "print(25*12-5)"
      ],
      "metadata": {
        "colab": {
          "base_uri": "https://localhost:8080/"
        },
        "id": "FI5vJs1B-gNU",
        "outputId": "4236f8d3-e2bc-4fc8-f0b7-9075bc0f379a"
      },
      "id": "FI5vJs1B-gNU",
      "execution_count": null,
      "outputs": [
        {
          "output_type": "stream",
          "name": "stdout",
          "text": [
            "295\n"
          ]
        }
      ]
    },
    {
      "cell_type": "code",
      "source": [
        "print(2**3/4)"
      ],
      "metadata": {
        "colab": {
          "base_uri": "https://localhost:8080/"
        },
        "id": "mxWEnzDJ-juS",
        "outputId": "66ab0133-c731-47e5-f61e-9600c923bdde"
      },
      "id": "mxWEnzDJ-juS",
      "execution_count": null,
      "outputs": [
        {
          "output_type": "stream",
          "name": "stdout",
          "text": [
            "2.0\n"
          ]
        }
      ]
    },
    {
      "cell_type": "code",
      "source": [
        "print(1/5+2/3-3/7)"
      ],
      "metadata": {
        "colab": {
          "base_uri": "https://localhost:8080/"
        },
        "id": "G6OnuIpf-qed",
        "outputId": "0462205f-53ad-401a-b9d0-551c30a29411"
      },
      "id": "G6OnuIpf-qed",
      "execution_count": null,
      "outputs": [
        {
          "output_type": "stream",
          "name": "stdout",
          "text": [
            "0.43809523809523815\n"
          ]
        }
      ]
    },
    {
      "cell_type": "markdown",
      "source": [
        "İşlem sırasını inceleyiniz. Siz de farklı örnekler deneyebilirsiniz."
      ],
      "metadata": {
        "id": "2yqsVwt_-vhs"
      },
      "id": "2yqsVwt_-vhs"
    },
    {
      "cell_type": "markdown",
      "id": "f3f2bda4",
      "metadata": {
        "id": "f3f2bda4"
      },
      "source": [
        "## 2.2 Değişkenler ve Değişken Türleri\n",
        "\n",
        "Python'da değişkenler, değerleri saklamak için kullanılan isimlendirilmiş alanlardır.\n",
        "Örneğin, yukarıdaki örnekte `P`, `r`, `n` ve `A` değişkenleri sayısal değerleri saklamak için kullanılmıştır.\n",
        "\n",
        "Python'da değişken türleri:\n",
        "- `int`: Tam sayılar (örneğin, 5, -2, 100)\n",
        "- `float`: Ondalıklı sayılar (örneğin, 3.14, -0.99, 5.0)\n",
        "- `str`: Metin (string) veri tipi (örneğin, \"Merhaba, Dünya!\")\n",
        "\n",
        "Değişken türlerini ilk bölümde ele almıştık. Hangilerinin ne şekilde kullanılacağını belirtmiştir. Şimdi aşağıdaki örneği inceleyelim.\n"
      ]
    },
    {
      "cell_type": "code",
      "execution_count": null,
      "id": "c8e25917",
      "metadata": {
        "id": "c8e25917",
        "colab": {
          "base_uri": "https://localhost:8080/"
        },
        "outputId": "67b15751-385c-48d9-d0e2-61e8d5aa0f14"
      },
      "outputs": [
        {
          "output_type": "stream",
          "name": "stdout",
          "text": [
            "140.71004226562505\n"
          ]
        }
      ],
      "source": [
        "# Başlangıç değerlerini tanımlayalım\n",
        "P = 100  # Başlangıç miktarı (TL)\n",
        "r = 5.0  # Faiz oranı (%)\n",
        "n = 7    # Yıl sayısı\n",
        "\n",
        "# Faiz hesaplama formülü\n",
        "A = P * (1 + r/100) ** n\n",
        "\n",
        "# Sonucu ekrana yazdırma\n",
        "print(A)\n"
      ]
    },
    {
      "cell_type": "markdown",
      "source": [
        "Bu kod bloku ile  $P,r,n$  değerleri başlangıçta sabitlenmiş olsa da print metodundan bağımsız olarak değiştirilebilir. Dahası kullanıcıdan input metodu ile veri alınıp işlem yapılabilir. Ayrıca A değişkeni ara değişken olarak tanımlanmış ve daha optimize olmasını sağlamıştır.\n",
        "\n",
        "Şu soru akla gelebilir, neden fazladan A değişkeni tanımladık? Şöyle de yapabilirdik:"
      ],
      "metadata": {
        "id": "36XqBarM_G8I"
      },
      "id": "36XqBarM_G8I"
    },
    {
      "cell_type": "code",
      "source": [
        "print(P * (1 + r/100) ** n)"
      ],
      "metadata": {
        "colab": {
          "base_uri": "https://localhost:8080/"
        },
        "id": "19tphyCEA0pw",
        "outputId": "06779a59-93ab-4eee-c317-25ee50e7e15e"
      },
      "id": "19tphyCEA0pw",
      "execution_count": null,
      "outputs": [
        {
          "output_type": "stream",
          "name": "stdout",
          "text": [
            "140.71004226562505\n"
          ]
        }
      ]
    },
    {
      "cell_type": "markdown",
      "source": [
        "Böylece daha az komut yazmış olurduk. Ancak hesaplamalarımızda bu formülü tekrar tekrar kullanamak gerekebilirdi. Örneğin A yı hesapladıktan sonra 2 ile çarpmak isteyebiliriz:\n",
        "```python\n",
        "print(2*A)\n",
        "````\n",
        "gibi. Bu detayları da araştırmanızda fayda var:)\n",
        "\n",
        "**Önemli noktalar:**\n",
        "- `**` operatörü üs almak için kullanılır. Örneğin, `x**y`, \\( x^y \\) anlamına gelir.\n",
        "- Çıktının tam sayı yerine ondalıklı olabilmesi için `r` değişkeninin `5.0` olarak tanımlandığına dikkat edin.\n",
        "- Python, matematiksel işlemleri işlem önceliğine göre değerlendirir. Parantezler kullanarak işlemin sırasını belirleyebiliriz.\n",
        "\n",
        "Hatırlayalım; `type()` fonksiyonu, bir değişkenin veri türünü öğrenmek için kullanılır.\n",
        "Değişken türlerini kontrol edelim"
      ],
      "metadata": {
        "id": "OawjDXngBJa4"
      },
      "id": "OawjDXngBJa4"
    },
    {
      "cell_type": "code",
      "execution_count": null,
      "id": "6320cae0",
      "metadata": {
        "id": "6320cae0"
      },
      "outputs": [],
      "source": [
        "print(\"P değişkeninin tipi:\",type(P))\n",
        "print(\"r değişkeninin tipi:\",type(r))\n",
        "print(\"A değişkeninin tipi:\",type(A))\n"
      ]
    },
    {
      "cell_type": "markdown",
      "id": "91f4dd28",
      "metadata": {
        "id": "91f4dd28"
      },
      "source": [
        "## 2.3 Python `print()` Metodu Notu\n",
        "\n",
        "Matematik hesaplara devam ederken sıkça kullanacağımız print metodu hakkında biraz detay verelim.\n",
        "\n",
        "`print()` metodu, **ekrana (veya başka bir çıkış akışına)** bilgi yazdırmak için kullanılır.\n",
        "Python’da en temel **çıktı verme (output)** aracıdır.\n",
        "\n",
        "---\n",
        "\n",
        "## 🧩 Temel Kullanım\n",
        "Daha önceki kullanımlarımızı hatırlayalım.\n",
        "```python\n",
        "print(\"Merhaba Dünya!\")\n",
        "```\n",
        "\n",
        "📤 **Çıktı:**\n",
        "\n",
        "```\n",
        "Merhaba Dünya!\n",
        "```\n",
        "\n",
        "---\n",
        "\n",
        "## ⚙️ Birden Fazla Değişken Yazdırma\n",
        "Değişkenler arasında virgül koyarak birden fazla değişken yazabiliriz. Eğer açıklama yazmak istiyorsak ``\"\"`` içine string olarak yazıp devamına virgül koymalıyız.\n",
        "\n",
        "Örnek:\n",
        "```python\n",
        "isim = \"Ali\"\n",
        "yas = 25\n",
        "print(\"Ad:\", isim, \"Yaş:\", yas)\n",
        "```\n",
        "\n",
        "📤 **Çıktı:**\n",
        "\n",
        "```\n",
        "Ad: Ali Yaş: 25\n",
        "```\n",
        "\n",
        "\n",
        "\n",
        "\n",
        "\n",
        "## 🧾 Özet\n",
        "\n",
        "✅ `print()` fonksiyonu, çıktıyı kullanıcıya göstermek için kullanılır.\n",
        "✅ Parametreleri sayesinde yazdırma biçimi kolayca değiştirilebilir.\n",
        "✅ Dosyaya çıktı almak için `file` parametresi kullanılabilir.\n",
        "✅ f-string ile birlikte çok güçlü bir biçimlendirme aracı haline gelir.\n",
        "\n",
        "---\n",
        "\n",
        "İstersen bu notu **PDF**, **Markdown dosyası (`.md`)** ya da **HTML dokümanı** olarak da oluşturabilirim.\n",
        "Hangisini istersin?\n"
      ]
    },
    {
      "cell_type": "markdown",
      "source": [
        "\n",
        "📝 `print()` fonksiyonu, birden fazla değeri **virgül ( , )** ile ayırarak yazdırabilir.\n",
        "Aralarına otomatik olarak **boşluk** koyar. Print metodu  içinde alt satıra geçmek için ```\\n``` parametresi kullanılır.\n",
        "\n",
        "```python\n",
        "print(\"Bugün günlerden cuma \\n Yarın günlerden cumartesi\")\n",
        "```\n",
        "\n",
        "📤 **Çıktı:**\n",
        "\n",
        "```\n",
        "Bugün günlerden cuma\n",
        "Yarın günlerden cumartesi\n",
        "```\n",
        "\n",
        "Bu parametrelerle aynı görevi yapan ancak kullanımı kolaylaştıran başka parametreler de ekleyebiliriz.Aşağıdaki tabloyu inceleyelim.\n",
        "\n",
        "---\n",
        "\n",
        "## 🧠 Parametreler\n",
        "\n",
        "| Parametre | Açıklama                                   | Varsayılan Değer    |\n",
        "| --------- | ------------------------------------------ | ------------------- |\n",
        "| `sep`     | Değerler arasına eklenecek ayraç           | `\" \"` (boşluk)      |\n",
        "| `end`     | Satır sonuna eklenecek karakter            | `\"\\n\"` (yeni satır) |\n",
        "| `file`    | Çıktının yazılacağı hedef (örneğin dosya)  | `sys.stdout`        |\n",
        "| `flush`   | Çıktının tamponlanmadan hemen yazdırılması | `False`             |\n",
        "\n",
        "---\n",
        "\n",
        "## 🧱 `sep` ve `end` Örnekleri\n",
        "\n",
        "### 🔹 `sep` Parametresi\n",
        "\n",
        "```python\n",
        "print(\"2025\", \"10\", \"24\", sep=\"-\")\n",
        "```\n",
        "\n",
        "📤 **Çıktı:**\n",
        "\n",
        "```\n",
        "2025-10-24\n",
        "```\n",
        "---\n",
        "\n",
        "### 🔹 `end` Parametresi\n",
        "\n",
        "```python\n",
        "print(\"Merhaba\", end=\" \")\n",
        "print(\"Dünya!\")\n",
        "```\n",
        "\n",
        "📤 **Çıktı:**\n",
        "\n",
        "```\n",
        "Merhaba Dünya!\n",
        "```"
      ],
      "metadata": {
        "id": "M6HWyNWCDWal"
      },
      "id": "M6HWyNWCDWal"
    },
    {
      "cell_type": "markdown",
      "source": [
        "> Normalde `print()` her çağrıldığında yeni satıra geçer. Bazen alt satıra geçmesini istemeyebiliriz. `end` parametresiyle bu davranış değiştirilebilir.\n",
        "\n",
        "```python\n",
        "print(\"Merhaba\", end=\" \")\n",
        "print(\"Dünya!\")\n",
        "```\n",
        "\n",
        "📤 **Çıktı:**\n",
        "\n",
        "```\n",
        "Merhaba Dünya!\n",
        "```\n"
      ],
      "metadata": {
        "id": "MG5zSjwvDhGI"
      },
      "id": "MG5zSjwvDhGI"
    },
    {
      "cell_type": "markdown",
      "id": "09d170f5",
      "metadata": {
        "id": "09d170f5"
      },
      "source": [
        "\n",
        "**Kullanışlı bir yöntem:** f-string ile Biçimlendirme\n",
        "\n",
        "```python\n",
        "isim = \"Ayşe\"\n",
        "puan = 95\n",
        "print(f\"{isim} adlı öğrenci {puan} puan aldı.\")\n",
        "```\n",
        "\n",
        "📤 **Çıktı:**\n",
        "\n",
        "```\n",
        "Ayşe adlı öğrenci 95 puan aldı.\n",
        "```\n",
        "Başka bir örneğe bakalım."
      ]
    },
    {
      "cell_type": "code",
      "execution_count": null,
      "id": "b7308123",
      "metadata": {
        "id": "b7308123",
        "colab": {
          "base_uri": "https://localhost:8080/"
        },
        "outputId": "88671721-f8a5-49e4-c64b-88083ec9218b"
      },
      "outputs": [
        {
          "output_type": "stream",
          "name": "stdout",
          "text": [
            "7 yıl sonunda, 100 TL 140.710 TL'ye ulaşır. Böylece 100 TL nin 7 yıl sonraki değerini hesaplamış oluruz.  \n",
            "7 yıl sonunda 100 TL 140.71004226562505 TL'ye ulaşır. Böylece 100 TL nin 7 yıl sonraki değerini hesaplamış oluruz.\n"
          ]
        }
      ],
      "source": [
        "print(f\"{n} yıl sonunda, {P} TL {A:.3f} TL'ye ulaşır. Böylece 100 TL nin 7 yıl sonraki değerini hesaplamış oluruz.  \")\n",
        "print(n, \"yıl sonunda\", P, \"TL\", A, \"TL'ye ulaşır. Böylece 100 TL nin 7 yıl sonraki değerini hesaplamış oluruz.\")# f-string olmadan kullanım."
      ]
    },
    {
      "cell_type": "markdown",
      "id": "7ab6249e",
      "metadata": {
        "id": "7ab6249e"
      },
      "source": [
        " `f\"...\"` olarak başlayan ifadeye `f-string` denir ve değişkenleri doğrudan metnin içine eklemeye olanak tanır.\n",
        "\n",
        "Önemli formatlama özellikleri:\n",
        "- `{A:.2f}` → `A` değerini iki ondalık basamak ile gösterir.\n",
        "- `{n}` → `n` değerini olduğu gibi metne ekler.\n"
      ]
    },
    {
      "cell_type": "markdown",
      "id": "e7b08c11",
      "metadata": {
        "id": "e7b08c11"
      },
      "source": [
        "## 2.4 Matematiksel Modülleri Kullanma\n",
        "\n",
        "Python, güçlü bir **hesap makinesi** gibi temel işlemleri (`+`, `-`, `*`, `/`) kolayca yapabilir.\n",
        "Ancak **karmaşık hesaplamalar** (örneğin trigonometrik fonksiyonlar, kök alma, logaritma vb.) için\n",
        "**yerleşik fonksiyonlar yeterli değildir.**\n",
        "\n",
        "Bu tür işlemler için **paketler (packages)** ve **modüller (modules)** kullanılır.\n",
        "\n",
        "Bu sayede Python, **bilimsel**, **istatistiksel** ve **mühendislik** hesaplamalarında oldukça güçlü hale gelir.\n",
        "\n",
        "Python çok geniş bir paket havuzu vardır.  https://pypi.org/ sayfasını ziyaret ederek bu paketlere ve modüllere bakabilirsiniz. Milyonlarac dosyadan oluşan çok büyük bir dünya! İşte bu Python'nın community desteğinin bir göstergesidir.\n",
        "\n",
        "Şimdi sıkça kullanılan ``math`` modülünden örnekler yapalım."
      ]
    },
    {
      "cell_type": "code",
      "execution_count": 11,
      "id": "6f25a1a8",
      "metadata": {
        "id": "6f25a1a8",
        "colab": {
          "base_uri": "https://localhost:8080/"
        },
        "outputId": "a1c840d8-d66c-43f4-bf30-2968cb9ac150"
      },
      "outputs": [
        {
          "output_type": "stream",
          "name": "stdout",
          "text": [
            "4.0\n",
            "2.302585092994046\n",
            "1.0\n"
          ]
        }
      ],
      "source": [
        "#import komutu ile modülü kod blokumuza ekliyoruz. Bunu yapmazsak moduldeki metotlar çalışmaz!\n",
        "import math\n",
        "\n",
        "#Bazı Örnekler\n",
        "\n",
        "# Karekök alma\n",
        "print(math.sqrt(16))  # 4.0\n",
        "\n",
        "# Doğal logaritma hesaplama\n",
        "print(math.log(10))  # ln(10)\n",
        "\n",
        "# Trigonometrik fonksiyonlar\n",
        "print(math.sin(math.pi / 2))  # 1.0"
      ]
    },
    {
      "cell_type": "markdown",
      "source": [
        "### 🔹 Modüller için `as` ile Kısa Yol Tanımlama\n",
        "\n",
        "Python’da bir modül içe aktarılırken (`import`) **`as` ifadesi** kullanılarak ona **kısa bir ad (takma ad)** verilebilir.\n",
        "Bu, özellikle modül ismi uzun olduğunda veya kodda sık kullanılacaksa yazımı kolaylaştırır.\n",
        "\n",
        "Kısacası, `as` ifadesi modül için **kısa ve pratik bir isim** belirlemeye yarar.\n",
        "\n",
        "İstediğimiz kısa yol ismi verebiliriz ancak bazı genel kullanımlara uymak gerekir. Örneğin math modülü için ``m`` kısaltması kullanılır:\n",
        "\n",
        "```python\n",
        "import math as m\n",
        "````\n",
        "Bu kısa yolu tanımladıktan sonra modül içindeki metotları ``moduladı`` ``.`` ``metotadı`` biçiminde çağırıyoruz. Örneğin math modülündeki karekök fonksiyonu ``m.sqrt() `` ile çalışıtırıyoruz.\n",
        "\n",
        "Aşağıdaki örnekleri inceleyim."
      ],
      "metadata": {
        "id": "oDE0XzfPG9aD"
      },
      "id": "oDE0XzfPG9aD"
    },
    {
      "cell_type": "code",
      "execution_count": null,
      "metadata": {
        "colab": {
          "base_uri": "https://localhost:8080/"
        },
        "outputId": "3f46c431-7169-4dc7-9660-274932adf895",
        "id": "W3RMBwo3F6xZ"
      },
      "outputs": [
        {
          "output_type": "stream",
          "name": "stdout",
          "text": [
            "4.0\n",
            "2.302585092994046\n",
            "1.0\n"
          ]
        }
      ],
      "source": [
        "import math as m\n",
        "\n",
        "# Karekök alma\n",
        "print(m.sqrt(16))  # 4.0\n",
        "\n",
        "# Doğal logaritma hesaplama\n",
        "print(m.log(10))  # ln(10)\n",
        "\n",
        "# Trigonometrik fonksiyonlar\n",
        "print(m.sin(math.pi / 2))  # 1.0\n"
      ],
      "id": "W3RMBwo3F6xZ"
    },
    {
      "cell_type": "markdown",
      "id": "481b0746",
      "metadata": {
        "id": "481b0746"
      },
      "source": [
        "\n",
        "Yukarıdaki kod bloğunda şunları yaptık:\n",
        "- `math.sqrt(x)`: `x`'in karekökünü hesaplar.\n",
        "- `math.log(x)`: `x`'in doğal logaritmasını alır (e tabanında).\n",
        "- `math.sin(x)`: `x` radyan cinsinden verildiğinde sinüsünü hesaplar.\n",
        "- `math.pi`: Pi sayısını içerir.\n",
        "\n",
        "Matematik işlemleri yaparken, her zaman hangi modülün kullanılması gerektiğine dikkat edilmelidir.\n",
        "\n",
        "bir modül hakkında ```help`` fonksiyonu ile yardım alabilirsiniz."
      ]
    },
    {
      "cell_type": "code",
      "source": [
        "help(math)"
      ],
      "metadata": {
        "id": "8f26F9YTNvZA"
      },
      "id": "8f26F9YTNvZA",
      "execution_count": null,
      "outputs": []
    },
    {
      "cell_type": "markdown",
      "source": [
        "help komutu ile o modüldeki metotların bir listesini görebilirsiniz. Bazen bir modülü değil modül içindeki bir metodu kullanırız. Bu durumda ``from``_modüladı_``metodadı``komutu ile o metodu çekebilirsiniz. Ancak bu durumda aynı modüldeki başka metotları kullanamazsınız."
      ],
      "metadata": {
        "id": "5bqmG1I6N6Mh"
      },
      "id": "5bqmG1I6N6Mh"
    },
    {
      "cell_type": "code",
      "source": [
        "#Örnek kullanım\n",
        "from math import sqrt\n",
        "print(sqrt(16))"
      ],
      "metadata": {
        "colab": {
          "base_uri": "https://localhost:8080/"
        },
        "id": "424zeMILOTol",
        "outputId": "27c5a7a9-f0d4-4871-ad3c-a1eff2df3f7a"
      },
      "id": "424zeMILOTol",
      "execution_count": 13,
      "outputs": [
        {
          "output_type": "stream",
          "name": "stdout",
          "text": [
            "4.0\n"
          ]
        }
      ]
    },
    {
      "cell_type": "markdown",
      "source": [
        "Bu durumun bir avantajı modül adını yazmanıza gerek kalmaz. Dahası gereksiz metotları çağırmanızı önler. Modül kullanımını sık sık yapacağız. Zamanla daha fazlasını konuşuruz."
      ],
      "metadata": {
        "id": "RAIJOwj8OXzH"
      },
      "id": "RAIJOwj8OXzH"
    },
    {
      "cell_type": "markdown",
      "id": "2ab599ef",
      "metadata": {
        "id": "2ab599ef"
      },
      "source": [
        "## 2.5 Python'da Yuvarlama Hataları ve Hassasiyet (Floating-Point Rounding Error)\n",
        "\n",
        "Python'da değişkenlerin bellekte nasıl tutulduğunu konuşmuştuk. float tipi değpişkenler virgülden sonra belirli bir kapasiteye kadar tutulabilir. Bu durumda bilimsel hesaplamalarda kabul edilebilir hatalar için yerleşik veri tipleri doğrudan kullanılabilir. Ancak hata toleransı düşük ise başka yollara başvurmak gerekebilir. Aşağıdaki örnekleri inceleylim."
      ]
    },
    {
      "cell_type": "code",
      "execution_count": null,
      "id": "7376a827",
      "metadata": {
        "id": "7376a827",
        "colab": {
          "base_uri": "https://localhost:8080/"
        },
        "outputId": "ef7f39c4-2b22-48c1-d0cb-c7bb16b06765"
      },
      "outputs": [
        {
          "output_type": "stream",
          "name": "stdout",
          "text": [
            "False\n",
            "True\n",
            "False\n",
            "True\n"
          ]
        }
      ],
      "source": [
        "# Yuvarlama hatası örneği\n",
        "x = 1 / 49.0 * 49\n",
        "y = 1 / 51.0 * 51\n",
        "\n",
        "print(x == 1)  # False olabilir\n",
        "print(y == 1)  # True olabilir\n",
        "\n",
        "# Güvenilir karşılaştırma için tolerans belirleyelim\n",
        "tol = 1e-20\n",
        "print(abs(x - 1) < tol)  # True\n",
        "print(abs(y - 1) < tol)  # True\n"
      ]
    },
    {
      "cell_type": "markdown",
      "id": "971b16b0",
      "metadata": {
        "id": "971b16b0"
      },
      "source": [
        "\n",
        "### 📘 Açıklama\n",
        "\n",
        "Bilgisayarlar **ondalık sayıları (float)** ikilik (binary) sistemde tam olarak temsil edemezler.\n",
        "Bu nedenle bazı sayılar bellekte çok küçük farklarla saklanır.\n",
        "\n",
        "#### 🔹 1. Satır:\n",
        "\n",
        "```python\n",
        "x = 1 / 49.0 * 49\n",
        "```\n",
        "\n",
        "Bu işlem matematiksel olarak tam olarak `1` olmalı.\n",
        "Ancak, `1 / 49.0` işlemi sonucu sonsuz tekrar eden bir ondalık sayı üretir:\n",
        "`0.02040816326530612...`\n",
        "\n",
        "Bu sayı **ikilik sistemde tam olarak temsil edilemez**, bu yüzden bilgisayar bunu en yakın değere yuvarlar.\n",
        "Ardından `* 49` işlemi yapıldığında sonuç **1’e çok yakın**, ama **tam 1 olmayan** bir değer elde edilir:\n",
        "örneğin `0.9999999999999999`.\n",
        "\n",
        "Dolayısıyla:\n",
        "\n",
        "```python\n",
        "print(x == 1)  # False\n",
        "```\n",
        "\n",
        "---\n",
        "\n",
        "#### 🔹 2. Satır:\n",
        "\n",
        "```python\n",
        "y = 1 / 51.0 * 51\n",
        "```\n",
        "\n",
        "Bu işlemde ise `1 / 51.0` sonucu binary sistemde `1 / 49` kadar sorunlu değildir,\n",
        "ve yuvarlama hatası oluşmaz veya çok daha küçüktür.\n",
        "Bu yüzden genellikle `y == 1` **True** döner.\n",
        "\n",
        "---\n",
        "\n",
        "\n"
      ]
    },
    {
      "cell_type": "markdown",
      "source": [
        "### ✅ Güvenilir Karşılaştırma\n",
        "\n",
        "Doğrudan `==` kullanmak hatalı sonuç verebileceği için,\n",
        "**küçük bir tolerans (epsilon)** ile karşılaştırma yapmak daha doğrudur:\n",
        "\n",
        "```python\n",
        "tol = 1e-20\n",
        "print(abs(x - 1) < tol)  # True\n",
        "print(abs(y - 1) < tol)  # True\n",
        "```\n",
        "\n",
        "Bu yöntem, `x` ve `y` değerlerinin **1’e yeterince yakın** olduğunu kontrol eder.\n",
        "\n",
        "---\n",
        "\n",
        "### 📊 Özet\n",
        "\n",
        "| İşlem           | Teorik Sonuç | Gerçek (float) Sonuç | `== 1` Sonucu | Toleranslı Karşılaştırma |\n",
        "| --------------- | ------------ | -------------------- | ------------- | ------------------------ |\n",
        "| `1 / 49.0 * 49` | 1            | 0.9999999999999999   | ❌ False       | ✅ True                   |\n",
        "| `1 / 51.0 * 51` | 1            | 1.0                  | ✅ True        | ✅ True                   |\n",
        "\n",
        "---\n",
        "\n",
        "### 💬 Sonuç\n",
        "\n",
        "➡️ **Kayan noktalı sayılarla (float)** yapılan işlemler küçük hatalar içerebilir.\n",
        "➡️ **Eşitlik karşılaştırmalarında** her zaman küçük bir tolerans kullanılmalıdır.\n",
        "\n",
        "---"
      ],
      "metadata": {
        "id": "aL7D_MwCQLsc"
      },
      "id": "aL7D_MwCQLsc"
    },
    {
      "cell_type": "markdown",
      "source": [
        "**Araştırma**\n",
        " Bu tür hataları önlemek veya azaltmak için kullanılan yöntemleri araştırınız. Özellikle `math.isclose()` fonksiyonu, `decimal` modülü ve `fractions` modülünün bu konuda nasıl çözümler sunduğunu inceleyip kısa örneklerle inceleme yapabilirsiniz.\n"
      ],
      "metadata": {
        "id": "kILwmAIDQP2t"
      },
      "id": "kILwmAIDQP2t"
    }
  ],
  "metadata": {
    "kernelspec": {
      "display_name": "Python 3 (ipykernel)",
      "language": "python",
      "name": "python3"
    },
    "language_info": {
      "codemirror_mode": {
        "name": "ipython",
        "version": 3
      },
      "file_extension": ".py",
      "mimetype": "text/x-python",
      "name": "python",
      "nbconvert_exporter": "python",
      "pygments_lexer": "ipython3",
      "version": "3.10.4"
    },
    "colab": {
      "provenance": [],
      "include_colab_link": true
    }
  },
  "nbformat": 4,
  "nbformat_minor": 5
}